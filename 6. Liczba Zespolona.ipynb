{
 "cells": [
  {
   "cell_type": "markdown",
   "id": "balanced-concert",
   "metadata": {},
   "source": [
    "## Zaimplementuj klasę LiczbaZespolona\n",
    "\n",
    "\n",
    "https://pl.wikipedia.org/wiki/Liczby_zespolone\n",
    "\n",
    "1. Każda instancja potrzebuje dwóch atrybutów: część rzeczywista a i cześć urojona b. Napisz konstruktor, który będzie je tworzył.   \n",
    "\n",
    "2. Napisz definicję metody __str__, tak aby wypisanie naszej liczby dało rezultat w postaci \"a+bi\", np. \"1+4i\".\n",
    "\n",
    "3. Zaimplementuj operację dodawania dwóch obiektów typu LiczbaZespolona przy pomocy operatora \"+\" (tj. napisz definicję odpowiedniej metody specjalnej) (https://pl.wikipedia.org/wiki/Liczby_zespolone#Dzia%C5%82ania)\n",
    "\n",
    "4. Analogicznie zaimplementuj operację odejmowania dwóch obiektów typu LiczbaZespolona przy pomocy operatora \"-\" (15%)   \n",
    "\n",
    "5. Napisz metodę instancji wylicz_modul, która wyliczy i zwróci wartość modułu naszej liczby zespolonej (https://pl.wikipedia.org/wiki/Liczby_zespolone#Modu%C5%82)    \n",
    "\n",
    "6. BONUS. Rozszerz operacje dodawania i odejmowania operatorami \"+\" i \"-\" o współpracę z typem int (int to liczby rzeczywiste, ich część urojona wynosi 0) \n",
    "\n",
    "\n",
    "Przykład użycia:  \n",
    "\n",
    "```python\n",
    "zesp_1 = LiczbaZespolona(1, 4)  \n",
    "zesp_2 = LiczbaZespolona(3, 6)  \n",
    "print(zesp_1)  # pokazuje \"1+4i\"  \n",
    "print(zesp_1 + zesp_2)  # pokazuje \"4+10i\"  \n",
    "print(zesp_2 - zesp_1)  # pokazuje \"2+2i\"  \n",
    "print(zesp_1.wylicz_modul())  # pokazuje wynik 4.1231056256  \n",
    "```"
   ]
  },
  {
   "cell_type": "code",
   "execution_count": 1,
   "id": "residential-cedar",
   "metadata": {},
   "outputs": [
    {
     "name": "stdout",
     "output_type": "stream",
     "text": [
      "1 + 4i\n",
      "4 + 10i\n",
      "2 + 2i\n",
      "4.1231056256\n"
     ]
    }
   ],
   "source": [
    "class LiczbaZespolona:\n",
    "    def __init__(self, rzecz = 0, uro=0):\n",
    "        self.rzecz = rzecz\n",
    "        self.uro = uro\n",
    "    def __str__(self):\n",
    "        if self.uro == 0:\n",
    "            return \"{}\".format(self.rzecz)\n",
    "        else:\n",
    "            return \"{} {} {}i\".format(self.rzecz, \"+\" if self.uro > 0 else \"-\", abs(self.uro))\n",
    "    def __add__(self, other):\n",
    "        return LiczbaZespolona(self.rzecz + other.rzecz, self.uro + other.uro)\n",
    "    def __sub__(self, other):\n",
    "        return LiczbaZespolona(self.rzecz - other.rzecz, self.uro - other.uro)\n",
    "    def wylicz_modul(self):\n",
    "        return round((self.rzecz ** 2 + self.uro ** 2) ** (1/2), 10)\n",
    "    \n",
    "zesp_1 = LiczbaZespolona(1,4)\n",
    "zesp_2 = LiczbaZespolona(3,6)\n",
    "print(zesp_1)\n",
    "print(zesp_1 + zesp_2)\n",
    "print(zesp_2 - zesp_1)\n",
    "print(zesp_1.wylicz_modul())"
   ]
  }
 ],
 "metadata": {
  "kernelspec": {
   "display_name": "Python 3",
   "language": "python",
   "name": "python3"
  },
  "language_info": {
   "codemirror_mode": {
    "name": "ipython",
    "version": 3
   },
   "file_extension": ".py",
   "mimetype": "text/x-python",
   "name": "python",
   "nbconvert_exporter": "python",
   "pygments_lexer": "ipython3",
   "version": "3.8.8"
  }
 },
 "nbformat": 4,
 "nbformat_minor": 5
}
