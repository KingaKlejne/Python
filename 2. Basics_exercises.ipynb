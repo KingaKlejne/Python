{
  "nbformat": 4,
  "nbformat_minor": 0,
  "metadata": {
    "colab": {
      "name": "2. Basics exercises.ipynb",
      "provenance": [],
      "authorship_tag": "ABX9TyMd7tDfSqH+CLZWrAIHAGIg",
      "include_colab_link": true
    },
    "kernelspec": {
      "name": "python3",
      "display_name": "Python 3"
    },
    "language_info": {
      "name": "python"
    }
  },
  "cells": [
    {
      "cell_type": "markdown",
      "metadata": {
        "id": "view-in-github",
        "colab_type": "text"
      },
      "source": [
        "<a href=\"https://colab.research.google.com/github/KingaKlejne/Python/blob/main/2.Basics_exercises.ipynb\" target=\"_parent\"><img src=\"https://colab.research.google.com/assets/colab-badge.svg\" alt=\"Open In Colab\"/></a>"
      ]
    },
    {
      "cell_type": "markdown",
      "metadata": {
        "id": "uEsMRHZx7Iem"
      },
      "source": [
        "[Codewars Account](https://www.codewars.com/users/Kinga%20Klejne)"
      ]
    },
    {
      "cell_type": "markdown",
      "metadata": {
        "id": "j1qikD2p3csg"
      },
      "source": [
        "# 1. Even or Odd\n",
        "\n",
        "Create a function (or write a script in Shell) that takes an integer as an argument and returns \"Even\" for even numbers or \"Odd\" for odd numbers.\n",
        "\n"
      ]
    },
    {
      "cell_type": "code",
      "metadata": {
        "id": "F46r7W0Pvo7G"
      },
      "source": [
        "def even_or_odd(number):\n",
        "    if number % 2 == 0:\n",
        "        return \"Even\"\n",
        "    else:\n",
        "        return \"Odd\""
      ],
      "execution_count": null,
      "outputs": []
    },
    {
      "cell_type": "markdown",
      "metadata": {
        "id": "74hFjNnD3lv_"
      },
      "source": [
        "# 2. Sum of positive\n",
        "\n",
        "You get an array of numbers, return the sum of all of the positives ones."
      ]
    },
    {
      "cell_type": "code",
      "metadata": {
        "id": "ZKqSKrW63knB"
      },
      "source": [
        "def positive_sum(arr):\n",
        "    sum = 0\n",
        "    for i in arr:\n",
        "        if i > 0:\n",
        "            sum += i\n",
        "        else:\n",
        "            pass\n",
        "    \n",
        "    return sum"
      ],
      "execution_count": null,
      "outputs": []
    },
    {
      "cell_type": "markdown",
      "metadata": {
        "id": "kdRpOqj930Vt"
      },
      "source": [
        "# 3. Opposite number\n",
        "\n",
        "Given a number, find its opposite."
      ]
    },
    {
      "cell_type": "code",
      "metadata": {
        "id": "qeTsUqlk3-qG"
      },
      "source": [
        "def opposite(number):\n",
        "    return - number"
      ],
      "execution_count": null,
      "outputs": []
    },
    {
      "cell_type": "markdown",
      "metadata": {
        "id": "M0zepdII4DLJ"
      },
      "source": [
        "# 4. Remove First and Last Character\n",
        "\n",
        "Your goal is to create a function that removes the first and last characters of a string. You're given one parameter, the original string. You don't have to worry with strings with less than two characters."
      ]
    },
    {
      "cell_type": "code",
      "metadata": {
        "id": "KBdvBQyp4JJa"
      },
      "source": [
        "def remove_char(s):\n",
        "    return s[1:-1]"
      ],
      "execution_count": null,
      "outputs": []
    },
    {
      "cell_type": "markdown",
      "metadata": {
        "id": "qocpwMgZ4j8q"
      },
      "source": [
        "#5. String repeat\n",
        "\n",
        "Write a function, which repeats the given string string exactly n times."
      ]
    },
    {
      "cell_type": "code",
      "metadata": {
        "id": "rww0dMpk4jDK"
      },
      "source": [
        "def repeat_str(repeat, string):\n",
        "    return string * repeat"
      ],
      "execution_count": null,
      "outputs": []
    },
    {
      "cell_type": "markdown",
      "metadata": {
        "id": "It3wNa5P42t9"
      },
      "source": [
        "# 6. Reversed Strings\n",
        "\n",
        "Complete the solution so that it reverses the string passed into it."
      ]
    },
    {
      "cell_type": "code",
      "metadata": {
        "id": "Ofr71uaO49gC"
      },
      "source": [
        "def solution(string):\n",
        "    return string[::-1]"
      ],
      "execution_count": null,
      "outputs": []
    },
    {
      "cell_type": "markdown",
      "metadata": {
        "id": "-CoFtt3c4_Sf"
      },
      "source": [
        "# 7. Convert boolean values to strings 'Yes' or 'No'.\n",
        "\n",
        "Complete the method that takes a boolean value and return a \"Yes\" string for true, or a \"No\" string for false."
      ]
    },
    {
      "cell_type": "code",
      "metadata": {
        "id": "ZIofmZpU5FjJ"
      },
      "source": [
        "def bool_to_word(boolean):\n",
        "    if boolean == True:\n",
        "        return \"Yes\"\n",
        "    else:\n",
        "        return \"No\""
      ],
      "execution_count": null,
      "outputs": []
    },
    {
      "cell_type": "markdown",
      "metadata": {
        "id": "WpDAWSvk5HVk"
      },
      "source": [
        "# 8. Convert a Number to a String!\n",
        "\n",
        "We need a function that can transform a number into a string."
      ]
    },
    {
      "cell_type": "code",
      "metadata": {
        "id": "5HeE5S5j5SM-"
      },
      "source": [
        "def number_to_string(num):\n",
        "    return str(num)"
      ],
      "execution_count": null,
      "outputs": []
    },
    {
      "cell_type": "markdown",
      "metadata": {
        "id": "avNJ_goU5KED"
      },
      "source": [
        "# 9. Cat years, Dog years\n",
        "\n",
        "I have a cat and a dog. I got them at the same time as kitten/puppy. That was humanYears years ago.\n",
        "\n",
        "Return their respective ages now as [humanYears,catYears,dogYears]\n",
        "\n",
        "NOTES:\n",
        "- humanYears >= 1\n",
        "- humanYears are whole numbers only\n",
        "- Cat Years: \n",
        "  - 15 cat years for first year\n",
        "  - +9 cat years for second year\n",
        "  - +4 cat years for each year after that\n",
        "- Dog Years:\n",
        "  - 15 dog years for first year\n",
        "  - +9 dog years for second year\n",
        "  - +5 dog years for each year after that"
      ]
    },
    {
      "cell_type": "code",
      "metadata": {
        "id": "M2fznkL55-e7"
      },
      "source": [
        "def human_years_cat_years_dog_years(human_years):\n",
        "    humanYears = 0\n",
        "    catYears = 0\n",
        "    dogYears = 0\n",
        "    first_year = 15\n",
        "    second_year = 9\n",
        "    more_cat = 4\n",
        "    more_dog = 5\n",
        "    if human_years == 1:\n",
        "        humanYears = human_years\n",
        "        catYears = dogYears = first_year\n",
        "    elif 1 < human_years < 3:\n",
        "        humanYears = human_years\n",
        "        catYears = dogYears = first_year + second_year\n",
        "    elif human_years > 2:\n",
        "        humanYears = human_years\n",
        "        catYears = first_year + second_year + (human_years-2) * more_cat\n",
        "        dogYears = first_year + second_year + (human_years-2) * more_dog\n",
        "    return [humanYears,catYears,dogYears]"
      ],
      "execution_count": null,
      "outputs": []
    },
    {
      "cell_type": "markdown",
      "metadata": {
        "id": "ZtAgTETv6A_1"
      },
      "source": [
        "# 10. All Star Code Challenge #20\n",
        "\n",
        "Create a function called addArrays() that combines two arrays of equal length, summing each element of the first with the corresponding element in the second, returning the \"combined\" summed array.\n",
        "Raise an error if input arguments are not of equal length.\n",
        "\n",
        "addArrays([1,2],[4,5]); // => [5,7]\n",
        "\n",
        "addArrays([1,2,3],[4,5]); // => Error\n",
        "\n",
        "Note:\n",
        "Expect array input to either contain numbers or strings only\n",
        "The function should also allow for concatenating string\n",
        "\n",
        "addArrays([\"a\"],[\"b\"]) // => [\"ab\"]"
      ]
    },
    {
      "cell_type": "code",
      "metadata": {
        "id": "mP3wDgQX6PR6"
      },
      "source": [
        "def add_arrays(array1, array2): \n",
        "    i = 0\n",
        "    addArrays = []\n",
        "    \n",
        "    if len(array1) == len(array2):\n",
        "    \n",
        "        for element in array1:\n",
        "            addArrays.append(array1[i] + array2[i])\n",
        "            i += 1\n",
        "        return addArrays\n",
        "    \n",
        "    raise IndexError(\"Error\")"
      ],
      "execution_count": null,
      "outputs": []
    },
    {
      "cell_type": "markdown",
      "metadata": {
        "id": "XH77a97e6RPQ"
      },
      "source": [
        "# 11. Last Survivor\n",
        "\n",
        "You are given a string of letters and an array of numbers.\n",
        "The numbers indicate positions of letters that must be removed, in order, starting from the beginning of the array.\n",
        "After each removal the size of the string decreases (there is no empty space).\n",
        "Return the only letter left.\n",
        "\n",
        "Notes:\n",
        "\n",
        "- The given string will never be empty.\n",
        "- The length of the array is always one less than the length of the string.\n",
        "- All numbers are valid.\n",
        "- There can be duplicate letters and numbers.\n"
      ]
    },
    {
      "cell_type": "code",
      "metadata": {
        "id": "17RW__Q_6Vux"
      },
      "source": [
        "def last_survivor(letters, coords): \n",
        "    \n",
        "    while len(coords) >= 1:\n",
        "        \n",
        "        letters_list = list(letters)\n",
        "        letters_string = ''\n",
        "\n",
        "        for element in coords:\n",
        "                letters_list.pop(element)\n",
        "\n",
        "        for letter in letters_list:\n",
        "                letters_string += letter\n",
        "                \n",
        "        return letters_string\n",
        "    \n",
        "    else:\n",
        "        return letters"
      ],
      "execution_count": null,
      "outputs": []
    },
    {
      "cell_type": "markdown",
      "metadata": {
        "id": "Tf62X0CU6e3X"
      },
      "source": [
        "# 12. Vowel Count\n",
        "\n",
        "Return the number (count) of vowels in the given string.\n",
        "\n",
        "We will consider a, e, i, o, u as vowels for this Kata (but not y).\n",
        "\n",
        "The input string will only consist of lower case letters and/or spaces."
      ]
    },
    {
      "cell_type": "code",
      "metadata": {
        "id": "uviEA4Iq6j7E"
      },
      "source": [
        "def get_count(input_str):\n",
        "\n",
        "    counts = input_str.count('a') + input_str.count('e') + input_str.count('i') + input_str.count('o') + input_str.count('u') \n",
        "    \n",
        "    return counts"
      ],
      "execution_count": null,
      "outputs": []
    },
    {
      "cell_type": "markdown",
      "metadata": {
        "id": "15yfWIv66oNh"
      },
      "source": [
        "# 13. Square Every Digit\n",
        "\n",
        "You are asked to square every digit of a number and concatenate them.\n",
        "\n",
        "For example, if we run 9119 through the function, 811181 will come out, because 92 is 81 and 12 is 1.\n",
        "\n",
        "Note: The function accepts an integer and returns an integer\n"
      ]
    },
    {
      "cell_type": "code",
      "metadata": {
        "id": "r_BW9dCP6sM1"
      },
      "source": [
        "def square_digits(num):\n",
        "    new_number_str =''\n",
        "    new_number_list = []\n",
        "    number_list = str(num)\n",
        "    number_list = list(number_list)\n",
        "    \n",
        "    for number in number_list:\n",
        "        intnumber = int(number) ** 2\n",
        "        new_number_list.append(intnumber)\n",
        "        \n",
        "    for element in new_number_list:\n",
        "        new_number_str += str(element)\n",
        "        \n",
        "    new_number_int = int(new_number_str)\n",
        "    \n",
        "    return new_number_int"
      ],
      "execution_count": null,
      "outputs": []
    },
    {
      "cell_type": "markdown",
      "metadata": {
        "id": "dqKPuyec61ws"
      },
      "source": [
        "# 14. Descending Order\n",
        "\n",
        "Your task is to make a function that can take any non-negative integer as an argument and return it with its digits in descending order. Essentially, rearrange the digits to create the highest possible number."
      ]
    },
    {
      "cell_type": "code",
      "metadata": {
        "id": "wtMqdXAM65U3"
      },
      "source": [
        "def descending_order(num):\n",
        "    number_list = str(num)\n",
        "    number_list = list(number_list)\n",
        "    number_list.sort(reverse=True)\n",
        "    new_number_str = ''\n",
        "    for element in number_list:\n",
        "        new_number_str += str(element)\n",
        "\n",
        "    new_number_int = int(new_number_str)\n",
        "\n",
        "    return new_number_int"
      ],
      "execution_count": null,
      "outputs": []
    },
    {
      "cell_type": "markdown",
      "metadata": {
        "id": "J4a-qY4I6-hz"
      },
      "source": [
        "# 15. Credit Card Mask\n",
        "\n",
        "Usually when you buy something, you're asked whether your credit card number, phone number or answer to your most secret question is still correct. However, since someone could look over your shoulder, you don't want that shown on your screen. Instead, we mask it.\n",
        "\n",
        "Your task is to write a function maskify, which changes all but the last four characters into '#'."
      ]
    },
    {
      "cell_type": "code",
      "metadata": {
        "id": "T1xh8pVM7E8E"
      },
      "source": [
        "def maskify(password):\n",
        "    password = str(password)\n",
        "    if len(password) > 4:\n",
        "        password = list(password)\n",
        "        password[0:len(password)-4] = ['#' for x in password[0:len(password)-4]]\n",
        "        password_new = ''\n",
        "\n",
        "        for element in password:\n",
        "                password_new += element\n",
        "        return password_new\n",
        "\n",
        "    else:\n",
        "\n",
        "        return password"
      ],
      "execution_count": null,
      "outputs": []
    }
  ]
}