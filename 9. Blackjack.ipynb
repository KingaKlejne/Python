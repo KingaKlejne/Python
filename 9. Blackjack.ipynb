{
 "cells": [
  {
   "cell_type": "code",
   "execution_count": 1,
   "id": "f684fb16-4ebe-455f-8cf7-d8fb2c8693a5",
   "metadata": {},
   "outputs": [],
   "source": [
    "import random"
   ]
  },
  {
   "cell_type": "code",
   "execution_count": 2,
   "id": "c6cd2528-55d9-410e-bf4c-a8febe31284d",
   "metadata": {},
   "outputs": [],
   "source": [
    "def deal_cards(deck, user):\n",
    "    if len(user) < 2:\n",
    "        for i in range(2):\n",
    "            user.append(random.choice(cards))\n",
    "    else:\n",
    "        user.append(random.choice(deck))\n",
    "    return user \n",
    "\n",
    "def calculate_score(cards_list):\n",
    "    score = sum(cards_list)\n",
    "    if len(cards_list) == 2 and sum(cards_list) == 21:\n",
    "        score = 0\n",
    "    elif 11 in cards_list and sum(cards_list) > 21:\n",
    "        cards_list.remove(11)\n",
    "        cards_list.append(1)\n",
    "        score = sum(cards_list)\n",
    "    return score\n",
    "\n",
    "def compare(user_score, computer_score):\n",
    "    result = \"\"\n",
    "    if user_score == computer_score:\n",
    "        result = \"draw\"\n",
    "    elif computer_score == 0 or user_score > 21:\n",
    "        result = \"loose\"\n",
    "    elif user_score == 0 or computer_score > 21:\n",
    "        result = \"win\"        \n",
    "    elif user_score > computer_score:\n",
    "        result = \"win\"\n",
    "    elif user_score < computer_score:\n",
    "        result = \"loose\"\n",
    "    else:\n",
    "        pass\n",
    "    return result \n",
    "\n",
    "\n",
    "def game_over(result):\n",
    "    print(f\"\\tYour final hand: {user_cards}, final score: {user_score}\")\n",
    "    print(f\"\\tComputer's final hand: {computer_cards}, final score: {computer_score}\")\n",
    "    if result == \"draw\":\n",
    "        print(f\"It's a draw!\")\n",
    "    elif result == \"win\":\n",
    "        print(f\"You win 😃\")\n",
    "    else:\n",
    "        print(\"You lose 😤\")\n",
    "\n",
    "\n",
    "def game_on():\n",
    "    print(f\"\\tYour cards: {user_cards}, current score: {user_score}\")\n",
    "    print(f\"\\tComputer's first card: {computer_cards[0]}\")\n",
    "\n",
    "def computer_final_hand(computer_cards, computer_score):\n",
    "    while computer_score < 17:\n",
    "        computer_cards = deal_cards(cards, computer_cards)\n",
    "        computer_score = calculate_score(computer_cards)\n",
    "    return computer_cards, computer_score\n",
    "\n"
   ]
  },
  {
   "cell_type": "code",
   "execution_count": 3,
   "id": "513b04d9-6f16-4390-84ee-c8d336df114e",
   "metadata": {},
   "outputs": [],
   "source": [
    "logo = \"\"\"\n",
    ".------.            _     _            _    _            _    \n",
    "|A_  _ |.          | |   | |          | |  (_)          | |   \n",
    "|( \\/ ).-----.     | |__ | | __ _  ___| | ___  __ _  ___| | __\n",
    "| \\  /|K /\\  |     | '_ \\| |/ _` |/ __| |/ / |/ _` |/ __| |/ /\n",
    "|  \\/ | /  \\ |     | |_) | | (_| | (__|   <| | (_| | (__|   < \n",
    "`-----| \\  / |     |_.__/|_|\\__,_|\\___|_|\\_\\ |\\__,_|\\___|_|\\_\\\\\n",
    "      |  \\/ K|                            _/ |                \n",
    "      `------'                           |__/           \n",
    "\"\"\""
   ]
  },
  {
   "cell_type": "code",
   "execution_count": 4,
   "id": "45cf156f-b536-46ec-a151-2c3c0f8b3000",
   "metadata": {},
   "outputs": [
    {
     "name": "stdin",
     "output_type": "stream",
     "text": [
      "Do you want to play a game of Blackjack? Type 'y' or 'n':  y\n"
     ]
    },
    {
     "name": "stdout",
     "output_type": "stream",
     "text": [
      "\n",
      ".------.            _     _            _    _            _    \n",
      "|A_  _ |.          | |   | |          | |  (_)          | |   \n",
      "|( \\/ ).-----.     | |__ | | __ _  ___| | ___  __ _  ___| | __\n",
      "| \\  /|K /\\  |     | '_ \\| |/ _` |/ __| |/ / |/ _` |/ __| |/ /\n",
      "|  \\/ | /  \\ |     | |_) | | (_| | (__|   <| | (_| | (__|   < \n",
      "`-----| \\  / |     |_.__/|_|\\__,_|\\___|_|\\_\\ |\\__,_|\\___|_|\\_\\\n",
      "      |  \\/ K|                            _/ |                \n",
      "      `------'                           |__/           \n",
      "\n",
      "\tYour cards: [11, 4], current score: 15\n",
      "\tComputer's first card: 10\n"
     ]
    },
    {
     "name": "stdin",
     "output_type": "stream",
     "text": [
      "Type 'y' to get another card, type 'n' to pass:  y\n"
     ]
    },
    {
     "name": "stdout",
     "output_type": "stream",
     "text": [
      "\tYour cards: [11, 4, 5], current score: 20\n",
      "\tComputer's first card: 10\n"
     ]
    },
    {
     "name": "stdin",
     "output_type": "stream",
     "text": [
      "Type 'y' to get another card, type 'n' to pass:  n\n"
     ]
    },
    {
     "name": "stdout",
     "output_type": "stream",
     "text": [
      "\tYour final hand: [11, 4, 5], final score: 20\n",
      "\tComputer's final hand: [10, 4, 6], final score: 20\n",
      "It's a draw!\n"
     ]
    },
    {
     "name": "stdin",
     "output_type": "stream",
     "text": [
      "Do you want to play a game of Blackjack? Type 'y' or 'n'  y\n"
     ]
    },
    {
     "name": "stdout",
     "output_type": "stream",
     "text": [
      "\n",
      ".------.            _     _            _    _            _    \n",
      "|A_  _ |.          | |   | |          | |  (_)          | |   \n",
      "|( \\/ ).-----.     | |__ | | __ _  ___| | ___  __ _  ___| | __\n",
      "| \\  /|K /\\  |     | '_ \\| |/ _` |/ __| |/ / |/ _` |/ __| |/ /\n",
      "|  \\/ | /  \\ |     | |_) | | (_| | (__|   <| | (_| | (__|   < \n",
      "`-----| \\  / |     |_.__/|_|\\__,_|\\___|_|\\_\\ |\\__,_|\\___|_|\\_\\\n",
      "      |  \\/ K|                            _/ |                \n",
      "      `------'                           |__/           \n",
      "\n",
      "\tYour cards: [6, 3], current score: 9\n",
      "\tComputer's first card: 10\n"
     ]
    },
    {
     "name": "stdin",
     "output_type": "stream",
     "text": [
      "Type 'y' to get another card, type 'n' to pass:  y\n"
     ]
    },
    {
     "name": "stdout",
     "output_type": "stream",
     "text": [
      "\tYour cards: [6, 3, 10], current score: 19\n",
      "\tComputer's first card: 10\n"
     ]
    },
    {
     "name": "stdin",
     "output_type": "stream",
     "text": [
      "Type 'y' to get another card, type 'n' to pass:  n\n"
     ]
    },
    {
     "name": "stdout",
     "output_type": "stream",
     "text": [
      "\tYour final hand: [6, 3, 10], final score: 19\n",
      "\tComputer's final hand: [10, 9], final score: 19\n",
      "It's a draw!\n"
     ]
    },
    {
     "name": "stdin",
     "output_type": "stream",
     "text": [
      "Do you want to play a game of Blackjack? Type 'y' or 'n'  y\n"
     ]
    },
    {
     "name": "stdout",
     "output_type": "stream",
     "text": [
      "\n",
      ".------.            _     _            _    _            _    \n",
      "|A_  _ |.          | |   | |          | |  (_)          | |   \n",
      "|( \\/ ).-----.     | |__ | | __ _  ___| | ___  __ _  ___| | __\n",
      "| \\  /|K /\\  |     | '_ \\| |/ _` |/ __| |/ / |/ _` |/ __| |/ /\n",
      "|  \\/ | /  \\ |     | |_) | | (_| | (__|   <| | (_| | (__|   < \n",
      "`-----| \\  / |     |_.__/|_|\\__,_|\\___|_|\\_\\ |\\__,_|\\___|_|\\_\\\n",
      "      |  \\/ K|                            _/ |                \n",
      "      `------'                           |__/           \n",
      "\n",
      "\tYour cards: [10, 10], current score: 20\n",
      "\tComputer's first card: 11\n"
     ]
    },
    {
     "name": "stdin",
     "output_type": "stream",
     "text": [
      "Type 'y' to get another card, type 'n' to pass:  n\n"
     ]
    },
    {
     "name": "stdout",
     "output_type": "stream",
     "text": [
      "\tYour final hand: [10, 10], final score: 20\n",
      "\tComputer's final hand: [11, 3, 2, 5], final score: 21\n",
      "You lose 😤\n"
     ]
    },
    {
     "name": "stdin",
     "output_type": "stream",
     "text": [
      "Do you want to play a game of Blackjack? Type 'y' or 'n'  y\n"
     ]
    },
    {
     "name": "stdout",
     "output_type": "stream",
     "text": [
      "\n",
      ".------.            _     _            _    _            _    \n",
      "|A_  _ |.          | |   | |          | |  (_)          | |   \n",
      "|( \\/ ).-----.     | |__ | | __ _  ___| | ___  __ _  ___| | __\n",
      "| \\  /|K /\\  |     | '_ \\| |/ _` |/ __| |/ / |/ _` |/ __| |/ /\n",
      "|  \\/ | /  \\ |     | |_) | | (_| | (__|   <| | (_| | (__|   < \n",
      "`-----| \\  / |     |_.__/|_|\\__,_|\\___|_|\\_\\ |\\__,_|\\___|_|\\_\\\n",
      "      |  \\/ K|                            _/ |                \n",
      "      `------'                           |__/           \n",
      "\n",
      "\tYour cards: [10, 10], current score: 20\n",
      "\tComputer's first card: 5\n"
     ]
    },
    {
     "name": "stdin",
     "output_type": "stream",
     "text": [
      "Type 'y' to get another card, type 'n' to pass:  n\n"
     ]
    },
    {
     "name": "stdout",
     "output_type": "stream",
     "text": [
      "\tYour final hand: [10, 10], final score: 20\n",
      "\tComputer's final hand: [5, 3, 5, 4], final score: 17\n",
      "You win 😃\n"
     ]
    },
    {
     "name": "stdin",
     "output_type": "stream",
     "text": [
      "Do you want to play a game of Blackjack? Type 'y' or 'n'  y\n"
     ]
    },
    {
     "name": "stdout",
     "output_type": "stream",
     "text": [
      "\n",
      ".------.            _     _            _    _            _    \n",
      "|A_  _ |.          | |   | |          | |  (_)          | |   \n",
      "|( \\/ ).-----.     | |__ | | __ _  ___| | ___  __ _  ___| | __\n",
      "| \\  /|K /\\  |     | '_ \\| |/ _` |/ __| |/ / |/ _` |/ __| |/ /\n",
      "|  \\/ | /  \\ |     | |_) | | (_| | (__|   <| | (_| | (__|   < \n",
      "`-----| \\  / |     |_.__/|_|\\__,_|\\___|_|\\_\\ |\\__,_|\\___|_|\\_\\\n",
      "      |  \\/ K|                            _/ |                \n",
      "      `------'                           |__/           \n",
      "\n",
      "\tYour cards: [4, 10], current score: 14\n",
      "\tComputer's first card: 4\n"
     ]
    },
    {
     "name": "stdin",
     "output_type": "stream",
     "text": [
      "Type 'y' to get another card, type 'n' to pass:  y\n"
     ]
    },
    {
     "name": "stdout",
     "output_type": "stream",
     "text": [
      "\tYour cards: [4, 10, 4], current score: 18\n",
      "\tComputer's first card: 4\n"
     ]
    },
    {
     "name": "stdin",
     "output_type": "stream",
     "text": [
      "Type 'y' to get another card, type 'n' to pass:  n\n"
     ]
    },
    {
     "name": "stdout",
     "output_type": "stream",
     "text": [
      "\tYour final hand: [4, 10, 4], final score: 18\n",
      "\tComputer's final hand: [4, 10, 5], final score: 19\n",
      "You lose 😤\n"
     ]
    },
    {
     "name": "stdin",
     "output_type": "stream",
     "text": [
      "Do you want to play a game of Blackjack? Type 'y' or 'n'  y\n"
     ]
    },
    {
     "name": "stdout",
     "output_type": "stream",
     "text": [
      "\n",
      ".------.            _     _            _    _            _    \n",
      "|A_  _ |.          | |   | |          | |  (_)          | |   \n",
      "|( \\/ ).-----.     | |__ | | __ _  ___| | ___  __ _  ___| | __\n",
      "| \\  /|K /\\  |     | '_ \\| |/ _` |/ __| |/ / |/ _` |/ __| |/ /\n",
      "|  \\/ | /  \\ |     | |_) | | (_| | (__|   <| | (_| | (__|   < \n",
      "`-----| \\  / |     |_.__/|_|\\__,_|\\___|_|\\_\\ |\\__,_|\\___|_|\\_\\\n",
      "      |  \\/ K|                            _/ |                \n",
      "      `------'                           |__/           \n",
      "\n",
      "\tYour final hand: [10, 11], final score: 0\n",
      "\tComputer's final hand: [4, 2], final score: 6\n",
      "You win 😃\n"
     ]
    },
    {
     "name": "stdin",
     "output_type": "stream",
     "text": [
      "Do you want to play a game of Blackjack? Type 'y' or 'n'  y\n"
     ]
    },
    {
     "name": "stdout",
     "output_type": "stream",
     "text": [
      "\n",
      ".------.            _     _            _    _            _    \n",
      "|A_  _ |.          | |   | |          | |  (_)          | |   \n",
      "|( \\/ ).-----.     | |__ | | __ _  ___| | ___  __ _  ___| | __\n",
      "| \\  /|K /\\  |     | '_ \\| |/ _` |/ __| |/ / |/ _` |/ __| |/ /\n",
      "|  \\/ | /  \\ |     | |_) | | (_| | (__|   <| | (_| | (__|   < \n",
      "`-----| \\  / |     |_.__/|_|\\__,_|\\___|_|\\_\\ |\\__,_|\\___|_|\\_\\\n",
      "      |  \\/ K|                            _/ |                \n",
      "      `------'                           |__/           \n",
      "\n",
      "\tYour cards: [8, 10], current score: 18\n",
      "\tComputer's first card: 10\n"
     ]
    },
    {
     "name": "stdin",
     "output_type": "stream",
     "text": [
      "Type 'y' to get another card, type 'n' to pass:  n\n"
     ]
    },
    {
     "name": "stdout",
     "output_type": "stream",
     "text": [
      "\tYour final hand: [8, 10], final score: 18\n",
      "\tComputer's final hand: [10, 7], final score: 17\n",
      "You win 😃\n"
     ]
    },
    {
     "name": "stdin",
     "output_type": "stream",
     "text": [
      "Do you want to play a game of Blackjack? Type 'y' or 'n'  y\n"
     ]
    },
    {
     "name": "stdout",
     "output_type": "stream",
     "text": [
      "\n",
      ".------.            _     _            _    _            _    \n",
      "|A_  _ |.          | |   | |          | |  (_)          | |   \n",
      "|( \\/ ).-----.     | |__ | | __ _  ___| | ___  __ _  ___| | __\n",
      "| \\  /|K /\\  |     | '_ \\| |/ _` |/ __| |/ / |/ _` |/ __| |/ /\n",
      "|  \\/ | /  \\ |     | |_) | | (_| | (__|   <| | (_| | (__|   < \n",
      "`-----| \\  / |     |_.__/|_|\\__,_|\\___|_|\\_\\ |\\__,_|\\___|_|\\_\\\n",
      "      |  \\/ K|                            _/ |                \n",
      "      `------'                           |__/           \n",
      "\n",
      "\tYour final hand: [10, 4], final score: 14\n",
      "\tComputer's final hand: [11, 10], final score: 0\n",
      "You lose 😤\n"
     ]
    },
    {
     "name": "stdin",
     "output_type": "stream",
     "text": [
      "Do you want to play a game of Blackjack? Type 'y' or 'n'  y\n"
     ]
    },
    {
     "name": "stdout",
     "output_type": "stream",
     "text": [
      "\n",
      ".------.            _     _            _    _            _    \n",
      "|A_  _ |.          | |   | |          | |  (_)          | |   \n",
      "|( \\/ ).-----.     | |__ | | __ _  ___| | ___  __ _  ___| | __\n",
      "| \\  /|K /\\  |     | '_ \\| |/ _` |/ __| |/ / |/ _` |/ __| |/ /\n",
      "|  \\/ | /  \\ |     | |_) | | (_| | (__|   <| | (_| | (__|   < \n",
      "`-----| \\  / |     |_.__/|_|\\__,_|\\___|_|\\_\\ |\\__,_|\\___|_|\\_\\\n",
      "      |  \\/ K|                            _/ |                \n",
      "      `------'                           |__/           \n",
      "\n",
      "\tYour final hand: [10, 9], final score: 19\n",
      "\tComputer's final hand: [10, 11], final score: 0\n",
      "You lose 😤\n"
     ]
    },
    {
     "name": "stdin",
     "output_type": "stream",
     "text": [
      "Do you want to play a game of Blackjack? Type 'y' or 'n'  y\n"
     ]
    },
    {
     "name": "stdout",
     "output_type": "stream",
     "text": [
      "\n",
      ".------.            _     _            _    _            _    \n",
      "|A_  _ |.          | |   | |          | |  (_)          | |   \n",
      "|( \\/ ).-----.     | |__ | | __ _  ___| | ___  __ _  ___| | __\n",
      "| \\  /|K /\\  |     | '_ \\| |/ _` |/ __| |/ / |/ _` |/ __| |/ /\n",
      "|  \\/ | /  \\ |     | |_) | | (_| | (__|   <| | (_| | (__|   < \n",
      "`-----| \\  / |     |_.__/|_|\\__,_|\\___|_|\\_\\ |\\__,_|\\___|_|\\_\\\n",
      "      |  \\/ K|                            _/ |                \n",
      "      `------'                           |__/           \n",
      "\n",
      "\tYour cards: [4, 11], current score: 15\n",
      "\tComputer's first card: 11\n"
     ]
    },
    {
     "name": "stdin",
     "output_type": "stream",
     "text": [
      "Type 'y' to get another card, type 'n' to pass:  y\n"
     ]
    },
    {
     "name": "stdout",
     "output_type": "stream",
     "text": [
      "\tYour cards: [4, 8, 1], current score: 13\n",
      "\tComputer's first card: 11\n"
     ]
    },
    {
     "name": "stdin",
     "output_type": "stream",
     "text": [
      "Type 'y' to get another card, type 'n' to pass:  y\n"
     ]
    },
    {
     "name": "stdout",
     "output_type": "stream",
     "text": [
      "\tYour final hand: [4, 8, 1, 9], final score: 22\n",
      "\tComputer's final hand: [11, 8], final score: 19\n",
      "You lose 😤\n"
     ]
    },
    {
     "name": "stdin",
     "output_type": "stream",
     "text": [
      "Do you want to play a game of Blackjack? Type 'y' or 'n'  n\n"
     ]
    }
   ],
   "source": [
    "decision1 = input(\"Do you want to play a game of Blackjack? Type 'y' or 'n': \")\n",
    "cards = [11, 2, 3, 4, 5, 6, 7, 8, 9, 10, 10, 10, 10]\n",
    "\n",
    "\n",
    "while decision1 == 'y':\n",
    "    print(logo)\n",
    "    user_cards = []\n",
    "    computer_cards = []\n",
    "    user_cards = deal_cards(cards,user_cards)\n",
    "    computer_cards = deal_cards(cards, computer_cards )\n",
    "    user_score = calculate_score(user_cards)\n",
    "    computer_score = calculate_score(computer_cards)\n",
    "    if len(user_cards) == 2 and user_score == 0 or computer_score == 0:\n",
    "        comparison = compare(user_score, computer_score)\n",
    "        game_over(comparison)\n",
    "        decision1 = input(\"Do you want to play a game of Blackjack? Type 'y' or 'n' \")\n",
    "    else:\n",
    "        game_on()\n",
    "        decision2 = input(\"Type 'y' to get another card, type 'n' to pass: \")\n",
    "        while decision2 == 'y':\n",
    "            user_cards = deal_cards(cards,user_cards)\n",
    "            user_score = calculate_score(user_cards)\n",
    "            if user_score >= 21:\n",
    "                computer_cards, computer_score = computer_final_hand(computer_cards, computer_score)\n",
    "                comparison = compare(user_score, computer_score)\n",
    "                game_over(comparison)\n",
    "                decision1 = input(\"Do you want to play a game of Blackjack? Type 'y' or 'n' \")\n",
    "                break\n",
    "            else:\n",
    "                game_on()\n",
    "                decision2 = input(\"Type 'y' to get another card, type 'n' to pass: \")\n",
    "        if decision2 == 'n':\n",
    "            computer_cards, computer_score = computer_final_hand(computer_cards, computer_score)\n",
    "            comparison = compare(user_score, computer_score)\n",
    "            game_over(comparison)\n",
    "            decision1 = input(\"Do you want to play a game of Blackjack? Type 'y' or 'n' \")"
   ]
  },
  {
   "cell_type": "code",
   "execution_count": null,
   "id": "de5d1997-ab4b-4bd9-8f75-451e2d1057c7",
   "metadata": {},
   "outputs": [],
   "source": []
  }
 ],
 "metadata": {
  "kernelspec": {
   "display_name": "Python 3 (ipykernel)",
   "language": "python",
   "name": "python3"
  },
  "language_info": {
   "codemirror_mode": {
    "name": "ipython",
    "version": 3
   },
   "file_extension": ".py",
   "mimetype": "text/x-python",
   "name": "python",
   "nbconvert_exporter": "python",
   "pygments_lexer": "ipython3",
   "version": "3.9.7"
  }
 },
 "nbformat": 4,
 "nbformat_minor": 5
}
