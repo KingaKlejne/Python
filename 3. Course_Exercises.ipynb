{
  "nbformat": 4,
  "nbformat_minor": 0,
  "metadata": {
    "colab": {
      "name": "3. Course Exercises.ipynb",
      "provenance": [],
      "authorship_tag": "ABX9TyPbgXtzkRqX7JlpRbngF8Yn",
      "include_colab_link": true
    },
    "kernelspec": {
      "name": "python3",
      "display_name": "Python 3"
    },
    "language_info": {
      "name": "python"
    }
  },
  "cells": [
    {
      "cell_type": "markdown",
      "metadata": {
        "id": "view-in-github",
        "colab_type": "text"
      },
      "source": [
        "<a href=\"https://colab.research.google.com/github/KingaKlejne/Python/blob/main/3.%20Course_Exercises.ipynb\" target=\"_parent\"><img src=\"https://colab.research.google.com/assets/colab-badge.svg\" alt=\"Open In Colab\"/></a>"
      ]
    },
    {
      "cell_type": "markdown",
      "metadata": {
        "id": "dstHqoMU-pGS"
      },
      "source": [
        "# 1. FizzBuzz\n",
        "\n",
        "Write a Python program which iterates the integers from 1 to 50. For multiples of three print \"Fizz\" instead of the number and for the multiples of five print \"Buzz\". For numbers which are multiples of both three and five print \"FizzBuzz\"."
      ]
    },
    {
      "cell_type": "code",
      "metadata": {
        "id": "p3_IP7bd-fKE"
      },
      "source": [
        "for i in range (1,51):\n",
        "    if i % 3 == 0 and i % 5 == 0:\n",
        "        print(\"FizzBuzz\")\n",
        "    elif i % 3 == 0:\n",
        "        print(\"Fizz\")\n",
        "    elif i % 5 == 0:\n",
        "        print(\"Buzz\")"
      ],
      "execution_count": null,
      "outputs": []
    },
    {
      "cell_type": "markdown",
      "metadata": {
        "id": "hYx_nr5E_i5C"
      },
      "source": [
        "# 2. M-Pyramid\n",
        "\n",
        "Build a pyramid with letter 'M'"
      ]
    },
    {
      "cell_type": "code",
      "metadata": {
        "id": "BXJbpjBb_mjq"
      },
      "source": [
        "number = int(input(\"Enter the height of the pyramid: \"))\n",
        "\n",
        "for i in range(1,number + 1):\n",
        "    row = \" \" * (number - i) + \"M\" * (2 * i - 1)\n",
        "    print(row)"
      ],
      "execution_count": null,
      "outputs": []
    },
    {
      "cell_type": "markdown",
      "metadata": {
        "id": "yYcPqJsNAEl-"
      },
      "source": [
        "# 3. Full Name - Age"
      ]
    },
    {
      "cell_type": "code",
      "metadata": {
        "colab": {
          "base_uri": "https://localhost:8080/"
        },
        "id": "iWNYig_rAD_S",
        "outputId": "fb36f6a2-18f9-4cae-d085-5988c9c36e5e"
      },
      "source": [
        "records = [\n",
        "    {\"First Name\": \"Adam\", \"Last Name\": \"Nowak\", \"Age\": 35},\n",
        "    {\"First Name\": \"Anna\", \"Last Name\": \"Nowak\", \"Age\": 29},\n",
        "    {\"First Name\": \"Artur\", \"Last Name\": \"Nowakowski\", \"Age\": 39},\n",
        "    {\"First Name\": \"Alojzy\", \"Last Name\": \"Kowalski\", \"Age\": 19}\n",
        "]\n",
        "\n",
        "for i in records:\n",
        "    if i[\"Age\"] > 30:\n",
        "        print(i[\"First Name\"],i[\"Last Name\"],i[\"Age\"])"
      ],
      "execution_count": 4,
      "outputs": [
        {
          "output_type": "stream",
          "text": [
            "Adam Nowak 35\n",
            "Artur Nowakowski 39\n"
          ],
          "name": "stdout"
        }
      ]
    },
    {
      "cell_type": "markdown",
      "metadata": {
        "id": "iFKF78i9AEQQ"
      },
      "source": [
        "# 4. key : value"
      ]
    },
    {
      "cell_type": "code",
      "metadata": {
        "colab": {
          "base_uri": "https://localhost:8080/"
        },
        "id": "wAjLJWAJAcrC",
        "outputId": "160bf934-e8c5-4fe1-d1fd-4199059e1362"
      },
      "source": [
        "for i in records:\n",
        "    for key,value in i.items():\n",
        "        print(str(key) + \": \" + str(value))"
      ],
      "execution_count": 6,
      "outputs": [
        {
          "output_type": "stream",
          "text": [
            "First Name: Adam\n",
            "Last Name: Nowak\n",
            "Age: 35\n",
            "First Name: Anna\n",
            "Last Name: Nowak\n",
            "Age: 29\n",
            "First Name: Artur\n",
            "Last Name: Nowakowski\n",
            "Age: 39\n",
            "First Name: Alojzy\n",
            "Last Name: Kowalski\n",
            "Age: 19\n"
          ],
          "name": "stdout"
        }
      ]
    },
    {
      "cell_type": "markdown",
      "metadata": {
        "id": "8-AWZB3fAztS"
      },
      "source": [
        "# 5. Adding work"
      ]
    },
    {
      "cell_type": "code",
      "metadata": {
        "colab": {
          "base_uri": "https://localhost:8080/"
        },
        "id": "Dxyc7Rm5A10S",
        "outputId": "768212ef-c4dd-410d-970c-846b55cdd240"
      },
      "source": [
        "profession = [\"Java Developer\", \"PHP Developer\", \"Python Developer\", \"CEO\"]\n",
        "i = 0\n",
        "for value in records:\n",
        "    value.update({\"profession\": profession[i]})\n",
        "    i += 1\n",
        "    print(value)"
      ],
      "execution_count": 11,
      "outputs": [
        {
          "output_type": "stream",
          "text": [
            "{'First Name': 'Adam', 'Last Name': 'Nowak', 'Age': 35, 'profession': 'Java Developer'}\n",
            "{'First Name': 'Anna', 'Last Name': 'Nowak', 'Age': 29, 'profession': 'PHP Developer'}\n",
            "{'First Name': 'Artur', 'Last Name': 'Nowakowski', 'Age': 39, 'profession': 'Python Developer'}\n",
            "{'First Name': 'Alojzy', 'Last Name': 'Kowalski', 'Age': 19, 'profession': 'CEO'}\n"
          ],
          "name": "stdout"
        }
      ]
    },
    {
      "cell_type": "markdown",
      "metadata": {
        "id": "takOj2izBidc"
      },
      "source": [
        "# 6. Creating list from dictionary"
      ]
    },
    {
      "cell_type": "code",
      "metadata": {
        "colab": {
          "base_uri": "https://localhost:8080/"
        },
        "id": "s1Y8iDYpBinL",
        "outputId": "0391b78d-ac3f-4471-9331-ec89edc5d5fa"
      },
      "source": [
        "record_list = []\n",
        "\n",
        "for i in records:\n",
        "    record_list += i[\"First Name\"], i[\"Last Name\"]\n",
        "    \n",
        "print(record_list)"
      ],
      "execution_count": 12,
      "outputs": [
        {
          "output_type": "stream",
          "text": [
            "['Adam', 'Nowak', 'Anna', 'Nowak', 'Artur', 'Nowakowski', 'Alojzy', 'Kowalski']\n"
          ],
          "name": "stdout"
        }
      ]
    },
    {
      "cell_type": "markdown",
      "metadata": {
        "id": "GjPiniEsCAXA"
      },
      "source": [
        "# 7. Count Strings\n",
        "\n",
        "Write a program that will count strings with a length of min. 2, where the first and last letters are the same"
      ]
    },
    {
      "cell_type": "code",
      "metadata": {
        "colab": {
          "base_uri": "https://localhost:8080/"
        },
        "id": "TMJAG8Q4CDEa",
        "outputId": "f2da0c3d-eb85-4dfd-b959-679ceed36b18"
      },
      "source": [
        "word_list = [\"abba\", \"ala\", \"xyzzyxy\", \"kayak\", \"koło\"]\n",
        "count = 0\n",
        "\n",
        "for word in word_list:\n",
        "    if len(word) >= 2 and word[0] == word[-1]:\n",
        "        count += 1\n",
        "\n",
        "print(count)"
      ],
      "execution_count": 13,
      "outputs": [
        {
          "output_type": "stream",
          "text": [
            "3\n"
          ],
          "name": "stdout"
        }
      ]
    },
    {
      "cell_type": "markdown",
      "metadata": {
        "id": "1rchrTw0COa1"
      },
      "source": [
        "# 8. Check if two lists have same elements"
      ]
    },
    {
      "cell_type": "code",
      "metadata": {
        "colab": {
          "base_uri": "https://localhost:8080/"
        },
        "id": "mdpe0NN_CRh1",
        "outputId": "354cdcf2-f5cb-4004-d1e8-4a56bb3c8a99"
      },
      "source": [
        "list_a = [1, 23, 94, \"cat\", \"dog\", [2, 3]]\n",
        "list_b = [54, [2, 3], \"cat\"]\n",
        "\n",
        "for element_a in list_a:\n",
        "    if element_a in list_b:\n",
        "        print(element_a)"
      ],
      "execution_count": 15,
      "outputs": [
        {
          "output_type": "stream",
          "text": [
            "cat\n",
            "[2, 3]\n"
          ],
          "name": "stdout"
        }
      ]
    },
    {
      "cell_type": "markdown",
      "metadata": {
        "id": "JhNCohORCY3X"
      },
      "source": [
        "# 9. List of the same elements from two lists"
      ]
    },
    {
      "cell_type": "code",
      "metadata": {
        "colab": {
          "base_uri": "https://localhost:8080/"
        },
        "id": "yeVnqyN4CeMq",
        "outputId": "9fdc94b9-f270-466c-ba6c-be6ecdb942e0"
      },
      "source": [
        "list_a = [1, 23, 94, \"cat\", \"dog\", [2, 3]]\n",
        "list_b = [54, [2, 3], \"cat\"]\n",
        "list_c = []\n",
        "\n",
        "for element_a in list_a:\n",
        "    if element_a in list_b:\n",
        "        list_c.append(element_a)\n",
        "print(list_c)"
      ],
      "execution_count": 19,
      "outputs": [
        {
          "output_type": "stream",
          "text": [
            "['cat', [2, 3]]\n"
          ],
          "name": "stdout"
        }
      ]
    },
    {
      "cell_type": "markdown",
      "metadata": {
        "id": "KTZWv6SBC1xX"
      },
      "source": [
        "# 10. Attendance list\n",
        "\n",
        "Create a new list with names added \"YES\" or \"NO\" depending on whether they are on the attendance list."
      ]
    },
    {
      "cell_type": "code",
      "metadata": {
        "colab": {
          "base_uri": "https://localhost:8080/"
        },
        "id": "Whcx-Hn2C5uJ",
        "outputId": "7af93c2f-34ca-4b6b-f4f8-db26684929d2"
      },
      "source": [
        "all = [\"Anna\", \"Jurek\", \"Beata\", \"Jarek\", \"Patrycja\", \"Arkadiusz\"]\n",
        "present = [\"Jurek\", \"Patrycja\", \"Beata\"]\n",
        "if_present = []\n",
        "\n",
        "for name in all:\n",
        "    if name in all:\n",
        "        if_present.append(name + \" - YES\")\n",
        "    else:\n",
        "        if_present.append(name + \" - NO\")\n",
        "        \n",
        "print(if_present)"
      ],
      "execution_count": 22,
      "outputs": [
        {
          "output_type": "stream",
          "text": [
            "['Anna - YES', 'Jurek - YES', 'Beata - YES', 'Jarek - YES', 'Patrycja - YES', 'Arkadiusz - YES']\n"
          ],
          "name": "stdout"
        }
      ]
    },
    {
      "cell_type": "markdown",
      "metadata": {
        "id": "moi8DiZFDx2_"
      },
      "source": [
        "# 11. Test results"
      ]
    },
    {
      "cell_type": "code",
      "metadata": {
        "colab": {
          "base_uri": "https://localhost:8080/"
        },
        "id": "xH1ZHi47D07b",
        "outputId": "22a8144c-f1c1-473f-f656-64e75dc322b9"
      },
      "source": [
        "names = [\"Anna\", \"Jurek\", \"Beata\", \"Jarek\", \"Patrycja\", \"Arkadiusz\"]\n",
        "test = [35, 78, 92, 45, 55, 80]\n",
        "results = []\n",
        "i = 0\n",
        "\n",
        "def grade(x):\n",
        "    if x >= 90:\n",
        "        return \"A\"\n",
        "    elif x >= 80:\n",
        "        return \"B\"\n",
        "    elif x >= 70:\n",
        "        return \"C\"\n",
        "    elif x >= 60:\n",
        "        return \"D\"\n",
        "    elif x >= 50:\n",
        "        return \"E\"\n",
        "    else:\n",
        "        return \"F\"\n",
        "\n",
        "\n",
        "for name in names:\n",
        "    score =(name, grade(test[i]))\n",
        "    results.append(score)\n",
        "    i += 1\n",
        "    \n",
        "\n",
        "print(results)"
      ],
      "execution_count": 23,
      "outputs": [
        {
          "output_type": "stream",
          "text": [
            "[('Anna', 'F'), ('Jurek', 'C'), ('Beata', 'A'), ('Jarek', 'F'), ('Patrycja', 'E'), ('Arkadiusz', 'B')]\n"
          ],
          "name": "stdout"
        }
      ]
    }
  ]
}